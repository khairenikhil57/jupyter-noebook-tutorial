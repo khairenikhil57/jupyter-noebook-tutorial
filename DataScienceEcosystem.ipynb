{
 "cells": [
  {
   "cell_type": "markdown",
   "id": "5603adef",
   "metadata": {},
   "source": [
    "# Data Science Tools and Ecosystem"
   ]
  },
  {
   "cell_type": "markdown",
   "id": "4d663998",
   "metadata": {},
   "source": [
    "In this notebook, Data Science Tools and Ecosystem are summarized."
   ]
  },
  {
   "cell_type": "markdown",
   "id": "bb3b4d6b",
   "metadata": {},
   "source": [
    "Some of the popular languages that Data Scientists use are\n",
    "\n",
    "\n",
    "1.python\n",
    "\n",
    "2.Sql\n",
    "\n",
    "3.c++\n",
    "\n",
    "4.R\n",
    "\n",
    "etc..."
   ]
  },
  {
   "cell_type": "markdown",
   "id": "dc9855a0",
   "metadata": {},
   "source": [
    "Some of the commonly used libraries used by Data Scientists include\n",
    "\n",
    "1.NumPy\n",
    "\n",
    "2.pandas\n",
    "\n",
    "3.matplotlib\n",
    "\n",
    "4.Seaborn\n",
    "\n",
    "5.scikit-learn\n",
    "\n",
    "6.TensorFlow\n",
    "\n",
    "7.PyTorch\n",
    "\n",
    "8.Keras\n",
    "\n",
    "9.SciPy\n",
    "\n",
    "10.statsmodels\n"
   ]
  },
  {
   "cell_type": "markdown",
   "id": "717306bc",
   "metadata": {},
   "source": [
    "|Data Science Tools|\n",
    "|---|\n",
    "|Tensor flow|\n",
    "|SAS|"
   ]
  },
  {
   "cell_type": "markdown",
   "id": "fef843a3",
   "metadata": {},
   "source": [
    "### Below are a few examples of evaluating arithmetic expressions in Python\n",
    "\n"
   ]
  },
  {
   "cell_type": "code",
   "execution_count": 3,
   "id": "acc439a7",
   "metadata": {},
   "outputs": [
    {
     "data": {
      "text/plain": [
       "17"
      ]
     },
     "execution_count": 3,
     "metadata": {},
     "output_type": "execute_result"
    }
   ],
   "source": [
    "#his a simple arithmetic expression to mutiply then add integers\n",
    "(3*4)+5"
   ]
  },
  {
   "cell_type": "code",
   "execution_count": 4,
   "id": "3bd502bc",
   "metadata": {},
   "outputs": [
    {
     "data": {
      "text/plain": [
       "3.3333333333333335"
      ]
     },
     "execution_count": 4,
     "metadata": {},
     "output_type": "execute_result"
    }
   ],
   "source": [
    "#his will convert 200 minutes to hours by diving by 60\n",
    "200/60"
   ]
  },
  {
   "cell_type": "markdown",
   "id": "a9c3cc84",
   "metadata": {},
   "source": [
    "__Objectives__\n",
    "\n",
    "*how to provide a comments\n",
    "\n",
    "*List to well known data set tools"
   ]
  },
  {
   "cell_type": "markdown",
   "id": "f83bf5da",
   "metadata": {},
   "source": [
    "## Author\n",
    "\n",
    "Lakshami holla"
   ]
  },
  {
   "cell_type": "code",
   "execution_count": null,
   "id": "6b7946b0",
   "metadata": {},
   "outputs": [],
   "source": []
  }
 ],
 "metadata": {
  "kernelspec": {
   "display_name": "Python 3 (ipykernel)",
   "language": "python",
   "name": "python3"
  },
  "language_info": {
   "codemirror_mode": {
    "name": "ipython",
    "version": 3
   },
   "file_extension": ".py",
   "mimetype": "text/x-python",
   "name": "python",
   "nbconvert_exporter": "python",
   "pygments_lexer": "ipython3",
   "version": "3.11.5"
  }
 },
 "nbformat": 4,
 "nbformat_minor": 5
}
